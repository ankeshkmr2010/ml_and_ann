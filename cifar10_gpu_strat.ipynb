{
  "cells": [
    {
      "cell_type": "markdown",
      "metadata": {
        "id": "view-in-github",
        "colab_type": "text"
      },
      "source": [
        "<a href=\"https://colab.research.google.com/github/ankeshkmr2010/ml_and_ann/blob/main/cifar10_gpu_strat.ipynb\" target=\"_parent\"><img src=\"https://colab.research.google.com/assets/colab-badge.svg\" alt=\"Open In Colab\"/></a>"
      ]
    },
    {
      "cell_type": "code",
      "execution_count": 1,
      "metadata": {
        "id": "GF9tBcVMBTiX",
        "colab": {
          "base_uri": "https://localhost:8080/"
        },
        "outputId": "4b21e99b-d8ec-4b42-924e-2e4e9614da11"
      },
      "outputs": [
        {
          "output_type": "stream",
          "name": "stdout",
          "text": [
            "Downloading data from https://storage.googleapis.com/tensorflow/tf-keras-datasets/mnist.npz\n",
            "11490434/11490434 [==============================] - 0s 0us/step\n"
          ]
        }
      ],
      "source": [
        "from keras.datasets import mnist\n",
        "#download mnist data and split into train and test sets\n",
        "(X_train, y_train), (X_test, y_test) = mnist.load_data()"
      ]
    },
    {
      "cell_type": "code",
      "execution_count": 22,
      "metadata": {
        "id": "6OXZZoS5BTia",
        "outputId": "7e9b2a64-7d9f-4e3a-9ae7-ec2d3b06ce51",
        "colab": {
          "base_uri": "https://localhost:8080/",
          "height": 211
        }
      },
      "outputs": [
        {
          "output_type": "error",
          "ename": "NameError",
          "evalue": "ignored",
          "traceback": [
            "\u001b[0;31m---------------------------------------------------------------------------\u001b[0m",
            "\u001b[0;31mNameError\u001b[0m                                 Traceback (most recent call last)",
            "\u001b[0;32m<ipython-input-22-54b759b24cfc>\u001b[0m in \u001b[0;36m<cell line: 4>\u001b[0;34m()\u001b[0m\n\u001b[1;32m      2\u001b[0m \u001b[0mget_ipython\u001b[0m\u001b[0;34m(\u001b[0m\u001b[0;34m)\u001b[0m\u001b[0;34m.\u001b[0m\u001b[0mrun_line_magic\u001b[0m\u001b[0;34m(\u001b[0m\u001b[0;34m'matplotlib'\u001b[0m\u001b[0;34m,\u001b[0m \u001b[0;34m'inline'\u001b[0m\u001b[0;34m)\u001b[0m\u001b[0;34m\u001b[0m\u001b[0;34m\u001b[0m\u001b[0m\n\u001b[1;32m      3\u001b[0m \u001b[0;31m#plot the first image in the dataset\u001b[0m\u001b[0;34m\u001b[0m\u001b[0;34m\u001b[0m\u001b[0m\n\u001b[0;32m----> 4\u001b[0;31m \u001b[0mplt\u001b[0m\u001b[0;34m.\u001b[0m\u001b[0mimshow\u001b[0m\u001b[0;34m(\u001b[0m\u001b[0mX_train\u001b[0m\u001b[0;34m[\u001b[0m\u001b[0;36m0\u001b[0m\u001b[0;34m]\u001b[0m\u001b[0;34m)\u001b[0m\u001b[0;34m\u001b[0m\u001b[0;34m\u001b[0m\u001b[0m\n\u001b[0m",
            "\u001b[0;31mNameError\u001b[0m: name 'X_train' is not defined"
          ]
        }
      ],
      "source": [
        "import matplotlib.pyplot as plt\n",
        "%matplotlib inline\n",
        "#plot the first image in the dataset\n",
        "plt.imshow(X_train[0])"
      ]
    },
    {
      "cell_type": "code",
      "execution_count": null,
      "metadata": {
        "id": "42kEcYQgBTib",
        "outputId": "248d86d3-3237-4fac-9a16-96f9ddb8e14f",
        "colab": {
          "base_uri": "https://localhost:8080/"
        }
      },
      "outputs": [
        {
          "output_type": "execute_result",
          "data": {
            "text/plain": [
              "(28, 28)"
            ]
          },
          "metadata": {},
          "execution_count": 3
        }
      ],
      "source": [
        "X_train[0].shape"
      ]
    },
    {
      "cell_type": "code",
      "execution_count": null,
      "metadata": {
        "id": "2HsB3Fb6BTic"
      },
      "outputs": [],
      "source": [
        "X_train = X_train.reshape(60000,28,28,1)\n",
        "X_test = X_test.reshape(10000,28,28,1)"
      ]
    },
    {
      "cell_type": "code",
      "execution_count": 8,
      "metadata": {
        "id": "Pxmkno-OBTic",
        "outputId": "75172d05-0815-417f-c8cc-e51ec80b58cf",
        "colab": {
          "base_uri": "https://localhost:8080/"
        }
      },
      "outputs": [
        {
          "output_type": "execute_result",
          "data": {
            "text/plain": [
              "array([0., 0., 0., 0., 0., 0., 1., 0., 0., 0.], dtype=float32)"
            ]
          },
          "metadata": {},
          "execution_count": 8
        }
      ],
      "source": [
        "from keras.utils import to_categorical\n",
        "#one-hot encode target column\n",
        "y_train = to_categorical(y_train)\n",
        "y_test = to_categorical(y_test)\n",
        "y_train[0]"
      ]
    },
    {
      "cell_type": "code",
      "execution_count": 7,
      "metadata": {
        "id": "xBUrvRCSBTid"
      },
      "outputs": [],
      "source": [
        "from keras.models import Sequential\n",
        "from keras.layers import Dense, Conv2D, Flatten\n",
        "#create model\n",
        "model = Sequential()\n",
        "#add model layers\n",
        "model.add(Conv2D(64, kernel_size=3, activation='relu', input_shape=(28,28,1)))\n",
        "model.add(Conv2D(32, kernel_size=3, activation='relu'))\n",
        "model.add(Flatten())\n",
        "model.add(Dense(10, activation='softmax'))"
      ]
    },
    {
      "cell_type": "code",
      "execution_count": null,
      "metadata": {
        "id": "uSPeuJfQBTid",
        "outputId": "97e70dad-efd0-4a51-866f-0ce1b0bff75f",
        "colab": {
          "base_uri": "https://localhost:8080/"
        }
      },
      "outputs": [
        {
          "output_type": "stream",
          "name": "stdout",
          "text": [
            "Model: \"sequential\"\n",
            "_________________________________________________________________\n",
            " Layer (type)                Output Shape              Param #   \n",
            "=================================================================\n",
            " conv2d (Conv2D)             (None, 26, 26, 64)        640       \n",
            "                                                                 \n",
            " conv2d_1 (Conv2D)           (None, 24, 24, 32)        18464     \n",
            "                                                                 \n",
            " flatten (Flatten)           (None, 18432)             0         \n",
            "                                                                 \n",
            " dense (Dense)               (None, 10)                184330    \n",
            "                                                                 \n",
            "=================================================================\n",
            "Total params: 203,434\n",
            "Trainable params: 203,434\n",
            "Non-trainable params: 0\n",
            "_________________________________________________________________\n"
          ]
        }
      ],
      "source": [
        "model.summary()"
      ]
    },
    {
      "cell_type": "code",
      "execution_count": 25,
      "metadata": {
        "id": "An1uRQEgBTid"
      },
      "outputs": [],
      "source": [
        "model.compile(optimizer='adam', loss='categorical_crossentropy', metrics=['accuracy'])"
      ]
    },
    {
      "cell_type": "code",
      "execution_count": null,
      "metadata": {
        "id": "HjsfQ-8iBTie",
        "outputId": "a1f7f93f-b9dd-4840-9dbb-fbd49131aa15",
        "colab": {
          "base_uri": "https://localhost:8080/"
        }
      },
      "outputs": [
        {
          "output_type": "stream",
          "name": "stdout",
          "text": [
            "Epoch 1/3\n",
            "1875/1875 [==============================] - 132s 70ms/step - loss: 0.2403 - accuracy: 0.9512 - val_loss: 0.0946 - val_accuracy: 0.9720\n",
            "Epoch 2/3\n",
            "1875/1875 [==============================] - 128s 68ms/step - loss: 0.0667 - accuracy: 0.9791 - val_loss: 0.0877 - val_accuracy: 0.9739\n",
            "Epoch 3/3\n",
            "1875/1875 [==============================] - 127s 68ms/step - loss: 0.0459 - accuracy: 0.9854 - val_loss: 0.0843 - val_accuracy: 0.9764\n"
          ]
        },
        {
          "output_type": "execute_result",
          "data": {
            "text/plain": [
              "<keras.callbacks.History at 0x7f4eb0754f10>"
            ]
          },
          "metadata": {},
          "execution_count": 9
        }
      ],
      "source": [
        "model.fit(X_train, y_train, validation_data=(X_test, y_test), epochs=3)"
      ]
    },
    {
      "cell_type": "code",
      "execution_count": null,
      "metadata": {
        "id": "mRFZbjE4BTie",
        "outputId": "ca2d9739-392a-443c-dbc9-ccf2e0f3453e"
      },
      "outputs": [
        {
          "data": {
            "text/plain": [
              "array([[0., 0., 0., 0., 0., 0., 0., 1., 0., 0.],\n",
              "       [0., 0., 0., 0., 0., 0., 1., 0., 0., 0.],\n",
              "       [0., 1., 0., 0., 0., 0., 0., 0., 0., 0.],\n",
              "       [0., 0., 0., 0., 0., 1., 0., 0., 0., 0.]], dtype=float32)"
            ]
          },
          "execution_count": 17,
          "metadata": {},
          "output_type": "execute_result"
        }
      ],
      "source": [
        "model.predict(X_test[:4])"
      ]
    },
    {
      "cell_type": "code",
      "execution_count": null,
      "metadata": {
        "id": "gJ4PkX5ZBTif",
        "outputId": "24d93f61-f148-4924-feaa-974b631f4660"
      },
      "outputs": [
        {
          "data": {
            "text/plain": [
              "array([[0., 0., 0., 0., 0., 0., 0., 1., 0., 0.],\n",
              "       [0., 0., 1., 0., 0., 0., 0., 0., 0., 0.],\n",
              "       [0., 1., 0., 0., 0., 0., 0., 0., 0., 0.],\n",
              "       [1., 0., 0., 0., 0., 0., 0., 0., 0., 0.]], dtype=float32)"
            ]
          },
          "execution_count": 18,
          "metadata": {},
          "output_type": "execute_result"
        }
      ],
      "source": [
        "y_test[:4]"
      ]
    },
    {
      "cell_type": "code",
      "execution_count": 9,
      "metadata": {
        "id": "PTKlBtwLBTif"
      },
      "outputs": [],
      "source": [
        "import tensorflow as tf\n",
        "from keras.utils import to_categorical\n",
        "from keras.models import Sequential\n",
        "from keras.layers import Dense, Conv2D, Conv3D, Flatten, MaxPooling2D, Dropout\n",
        "from keras.models import Sequential\n",
        "from keras.layers import Dense, Conv2D, Flatten"
      ]
    },
    {
      "cell_type": "code",
      "source": [
        "(x_train, y_train), (x_test, y_test) = tf.keras.datasets.cifar10.load_data()"
      ],
      "metadata": {
        "colab": {
          "base_uri": "https://localhost:8080/"
        },
        "id": "zr011enJLjNC",
        "outputId": "7752b14a-0ee6-4ec4-aaca-09834bcdae7e"
      },
      "execution_count": 15,
      "outputs": [
        {
          "output_type": "stream",
          "name": "stdout",
          "text": [
            "Downloading data from https://www.cs.toronto.edu/~kriz/cifar-10-python.tar.gz\n",
            "170498071/170498071 [==============================] - 13s 0us/step\n"
          ]
        }
      ]
    },
    {
      "cell_type": "code",
      "source": [
        "x_train.shape"
      ],
      "metadata": {
        "colab": {
          "base_uri": "https://localhost:8080/"
        },
        "id": "xSG-A3cmLjO9",
        "outputId": "1cd1907e-0558-499a-dff4-6a2dcd991a4e"
      },
      "execution_count": 32,
      "outputs": [
        {
          "output_type": "execute_result",
          "data": {
            "text/plain": [
              "(50000, 32, 32, 3)"
            ]
          },
          "metadata": {},
          "execution_count": 32
        }
      ]
    },
    {
      "cell_type": "code",
      "source": [
        "y_train[0]"
      ],
      "metadata": {
        "colab": {
          "base_uri": "https://localhost:8080/"
        },
        "id": "W11naxKTLjQ4",
        "outputId": "206e8f62-43a5-473b-9af3-c0e71712e4bb"
      },
      "execution_count": 7,
      "outputs": [
        {
          "output_type": "execute_result",
          "data": {
            "text/plain": [
              "array([6], dtype=uint8)"
            ]
          },
          "metadata": {},
          "execution_count": 7
        }
      ]
    },
    {
      "cell_type": "code",
      "source": [
        "plt.imshow(x_train[0])"
      ],
      "metadata": {
        "colab": {
          "base_uri": "https://localhost:8080/",
          "height": 447
        },
        "id": "g6SzAxoDLjSi",
        "outputId": "4dac8ef5-283c-41d0-caf0-9243959659ce"
      },
      "execution_count": 11,
      "outputs": [
        {
          "output_type": "execute_result",
          "data": {
            "text/plain": [
              "<matplotlib.image.AxesImage at 0x7ce5cb373e20>"
            ]
          },
          "metadata": {},
          "execution_count": 11
        },
        {
          "output_type": "display_data",
          "data": {
            "text/plain": [
              "<Figure size 640x480 with 1 Axes>"
            ],
            "image/png": "[encoded data removed]"
          },
          "metadata": {}
        }
      ]
    },
    {
      "cell_type": "code",
      "source": [
        "y_train = to_categorical(y_train)\n",
        "y_test = to_categorical(y_test)\n",
        "y_train[0]\n"
      ],
      "metadata": {
        "colab": {
          "base_uri": "https://localhost:8080/"
        },
        "id": "SDGqLumEMv9Y",
        "outputId": "42bba92f-4842-42da-c5f8-3ff07faacec3"
      },
      "execution_count": 16,
      "outputs": [
        {
          "output_type": "execute_result",
          "data": {
            "text/plain": [
              "array([0., 0., 0., 0., 0., 0., 1., 0., 0., 0.], dtype=float32)"
            ]
          },
          "metadata": {},
          "execution_count": 16
        }
      ]
    },
    {
      "cell_type": "code",
      "source": [
        "from keras.layers import MaxPooling2D\n",
        "from keras.layers import Rescaling\n",
        "import tensorflow as tf\n",
        "print(\"Num GPUs Available: \", len(tf.config.list_physical_devices('GPU')))\n",
        "gpus = tf.config.list_logical_devices('GPU')\n",
        "strategy = tf.distribute.MirroredStrategy(gpus)"
      ],
      "metadata": {
        "colab": {
          "base_uri": "https://localhost:8080/"
        },
        "id": "sZLmm3SVVCCU",
        "outputId": "0825c098-d8b7-47c2-a04a-2e433ff19c6d"
      },
      "execution_count": 10,
      "outputs": [
        {
          "output_type": "stream",
          "name": "stdout",
          "text": [
            "Num GPUs Available:  1\n"
          ]
        }
      ]
    },
    {
      "cell_type": "code",
      "source": [
        "with strategy.scope():\n",
        "  model = Sequential()\n",
        "  #add model layers\n",
        "  model.add(Rescaling(1./255,input_shape=(32,32,3)))\n",
        "  model.add(Conv2D(128, kernel_size=3, activation='relu' ))\n",
        "  model.add(MaxPooling2D((2, 2)))\n",
        "  model.add(tf.keras.layers.BatchNormalization(synchronized=True))\n",
        "  model.add(Conv2D(64, kernel_size=3, activation='relu'))\n",
        "  model.add(MaxPooling2D((2, 2)))\n",
        "  model.add(Conv2D(32, kernel_size=3, activation='relu'))\n",
        "  model.add(MaxPooling2D((2, 2)))\n",
        "  model.add(Flatten())\n",
        "  model.add(Dense(128, activation='relu'))\n",
        "  model.add(Dropout(0.2))\n",
        "  model.add(tf.keras.layers.BatchNormalization(synchronized=True))\n",
        "  model.add(Dense(128, activation='relu'))\n",
        "  model.add(Dropout(0.2))\n",
        "  model.add(tf.keras.layers.BatchNormalization(synchronized=True))\n",
        "  model.add(Dense(10, activation='softmax'))"
      ],
      "metadata": {
        "id": "Oop1kW0oNLAX"
      },
      "execution_count": 52,
      "outputs": []
    },
    {
      "cell_type": "code",
      "source": [
        "model.summary()"
      ],
      "metadata": {
        "colab": {
          "base_uri": "https://localhost:8080/"
        },
        "id": "5Ab5A-5IOzHd",
        "outputId": "7276ac5e-b6e6-4df0-f134-a913d2c0b917"
      },
      "execution_count": 53,
      "outputs": [
        {
          "output_type": "stream",
          "name": "stdout",
          "text": [
            "Model: \"sequential_10\"\n",
            "_________________________________________________________________\n",
            " Layer (type)                Output Shape              Param #   \n",
            "=================================================================\n",
            " rescaling_9 (Rescaling)     (None, 32, 32, 3)         0         \n",
            "                                                                 \n",
            " conv2d_29 (Conv2D)          (None, 30, 30, 128)       3584      \n",
            "                                                                 \n",
            " max_pooling2d_27 (MaxPoolin  (None, 15, 15, 128)      0         \n",
            " g2D)                                                            \n",
            "                                                                 \n",
            " batch_normalization_18 (Bat  (None, 15, 15, 128)      512       \n",
            " chNormalization)                                                \n",
            "                                                                 \n",
            " conv2d_30 (Conv2D)          (None, 13, 13, 64)        73792     \n",
            "                                                                 \n",
            " max_pooling2d_28 (MaxPoolin  (None, 6, 6, 64)         0         \n",
            " g2D)                                                            \n",
            "                                                                 \n",
            " conv2d_31 (Conv2D)          (None, 4, 4, 32)          18464     \n",
            "                                                                 \n",
            " max_pooling2d_29 (MaxPoolin  (None, 2, 2, 32)         0         \n",
            " g2D)                                                            \n",
            "                                                                 \n",
            " flatten_10 (Flatten)        (None, 128)               0         \n",
            "                                                                 \n",
            " dense_28 (Dense)            (None, 128)               16512     \n",
            "                                                                 \n",
            " dropout_18 (Dropout)        (None, 128)               0         \n",
            "                                                                 \n",
            " batch_normalization_19 (Bat  (None, 128)              512       \n",
            " chNormalization)                                                \n",
            "                                                                 \n",
            " dense_29 (Dense)            (None, 128)               16512     \n",
            "                                                                 \n",
            " dropout_19 (Dropout)        (None, 128)               0         \n",
            "                                                                 \n",
            " batch_normalization_20 (Bat  (None, 128)              512       \n",
            " chNormalization)                                                \n",
            "                                                                 \n",
            " dense_30 (Dense)            (None, 10)                1290      \n",
            "                                                                 \n",
            "=================================================================\n",
            "Total params: 131,690\n",
            "Trainable params: 130,922\n",
            "Non-trainable params: 768\n",
            "_________________________________________________________________\n"
          ]
        }
      ]
    },
    {
      "cell_type": "code",
      "source": [
        "model.compile(optimizer='adam', loss='categorical_crossentropy', metrics=['accuracy'])\n"
      ],
      "metadata": {
        "id": "mH1uhXCnOzJr"
      },
      "execution_count": 54,
      "outputs": []
    },
    {
      "cell_type": "code",
      "source": [
        "with strategy.scope():\n",
        "  history = model.fit(x_train, y_train, batch_size=512,validation_data=(x_test, y_test), epochs=50)"
      ],
      "metadata": {
        "colab": {
          "base_uri": "https://localhost:8080/"
        },
        "id": "aohNCrD7OzOy",
        "outputId": "2396f60c-a751-4432-9ea5-c4236179608e"
      },
      "execution_count": 55,
      "outputs": [
        {
          "output_type": "stream",
          "name": "stdout",
          "text": [
            "Epoch 1/50\n",
            "98/98 [==============================] - 10s 57ms/step - loss: 1.8825 - accuracy: 0.3361 - val_loss: 2.7439 - val_accuracy: 0.1461\n",
            "Epoch 2/50\n",
            "98/98 [==============================] - 5s 48ms/step - loss: 1.4038 - accuracy: 0.4921 - val_loss: 3.0323 - val_accuracy: 0.1022\n",
            "Epoch 3/50\n",
            "98/98 [==============================] - 4s 43ms/step - loss: 1.2215 - accuracy: 0.5614 - val_loss: 2.7208 - val_accuracy: 0.1504\n",
            "Epoch 4/50\n",
            "98/98 [==============================] - 5s 46ms/step - loss: 1.1012 - accuracy: 0.6072 - val_loss: 2.5117 - val_accuracy: 0.1922\n",
            "Epoch 5/50\n",
            "98/98 [==============================] - 4s 46ms/step - loss: 1.0213 - accuracy: 0.6371 - val_loss: 2.2275 - val_accuracy: 0.2905\n",
            "Epoch 6/50\n",
            "98/98 [==============================] - 4s 45ms/step - loss: 0.9486 - accuracy: 0.6636 - val_loss: 1.3921 - val_accuracy: 0.5212\n",
            "Epoch 7/50\n",
            "98/98 [==============================] - 4s 45ms/step - loss: 0.8889 - accuracy: 0.6863 - val_loss: 1.0889 - val_accuracy: 0.6252\n",
            "Epoch 8/50\n",
            "98/98 [==============================] - 4s 44ms/step - loss: 0.8303 - accuracy: 0.7079 - val_loss: 1.0105 - val_accuracy: 0.6434\n",
            "Epoch 9/50\n",
            "98/98 [==============================] - 4s 45ms/step - loss: 0.7852 - accuracy: 0.7226 - val_loss: 1.6221 - val_accuracy: 0.5469\n",
            "Epoch 10/50\n",
            "98/98 [==============================] - 4s 44ms/step - loss: 0.7565 - accuracy: 0.7363 - val_loss: 0.9830 - val_accuracy: 0.6659\n",
            "Epoch 11/50\n",
            "98/98 [==============================] - 4s 44ms/step - loss: 0.7150 - accuracy: 0.7495 - val_loss: 1.0222 - val_accuracy: 0.6620\n",
            "Epoch 12/50\n",
            "98/98 [==============================] - 5s 46ms/step - loss: 0.6831 - accuracy: 0.7612 - val_loss: 0.8679 - val_accuracy: 0.6977\n",
            "Epoch 13/50\n",
            "98/98 [==============================] - 4s 43ms/step - loss: 0.6509 - accuracy: 0.7718 - val_loss: 1.1967 - val_accuracy: 0.6238\n",
            "Epoch 14/50\n",
            "98/98 [==============================] - 4s 43ms/step - loss: 0.6374 - accuracy: 0.7771 - val_loss: 1.0751 - val_accuracy: 0.6522\n",
            "Epoch 15/50\n",
            "98/98 [==============================] - 5s 47ms/step - loss: 0.6061 - accuracy: 0.7882 - val_loss: 0.8656 - val_accuracy: 0.7114\n",
            "Epoch 16/50\n",
            "98/98 [==============================] - 4s 46ms/step - loss: 0.5842 - accuracy: 0.7946 - val_loss: 1.0128 - val_accuracy: 0.6707\n",
            "Epoch 17/50\n",
            "98/98 [==============================] - 4s 44ms/step - loss: 0.5596 - accuracy: 0.8057 - val_loss: 0.8798 - val_accuracy: 0.7140\n",
            "Epoch 18/50\n",
            "98/98 [==============================] - 4s 46ms/step - loss: 0.5521 - accuracy: 0.8068 - val_loss: 0.8876 - val_accuracy: 0.7124\n",
            "Epoch 19/50\n",
            "98/98 [==============================] - 4s 44ms/step - loss: 0.5260 - accuracy: 0.8179 - val_loss: 0.8707 - val_accuracy: 0.7157\n",
            "Epoch 20/50\n",
            "98/98 [==============================] - 4s 44ms/step - loss: 0.5005 - accuracy: 0.8273 - val_loss: 0.9852 - val_accuracy: 0.6825\n",
            "Epoch 21/50\n",
            "98/98 [==============================] - 4s 46ms/step - loss: 0.4897 - accuracy: 0.8279 - val_loss: 0.8816 - val_accuracy: 0.7168\n",
            "Epoch 22/50\n",
            "98/98 [==============================] - 4s 44ms/step - loss: 0.4657 - accuracy: 0.8380 - val_loss: 0.9549 - val_accuracy: 0.7039\n",
            "Epoch 23/50\n",
            "98/98 [==============================] - 4s 45ms/step - loss: 0.4553 - accuracy: 0.8412 - val_loss: 1.2516 - val_accuracy: 0.6348\n",
            "Epoch 24/50\n",
            "98/98 [==============================] - 4s 45ms/step - loss: 0.4440 - accuracy: 0.8469 - val_loss: 0.9665 - val_accuracy: 0.7079\n",
            "Epoch 25/50\n",
            "98/98 [==============================] - 4s 44ms/step - loss: 0.4265 - accuracy: 0.8506 - val_loss: 1.0337 - val_accuracy: 0.6870\n",
            "Epoch 26/50\n",
            "98/98 [==============================] - 5s 46ms/step - loss: 0.4090 - accuracy: 0.8576 - val_loss: 0.9801 - val_accuracy: 0.7046\n",
            "Epoch 27/50\n",
            "98/98 [==============================] - 4s 44ms/step - loss: 0.3962 - accuracy: 0.8589 - val_loss: 1.0583 - val_accuracy: 0.6943\n",
            "Epoch 28/50\n",
            "98/98 [==============================] - 4s 44ms/step - loss: 0.3887 - accuracy: 0.8620 - val_loss: 0.9302 - val_accuracy: 0.7238\n",
            "Epoch 29/50\n",
            "98/98 [==============================] - 4s 46ms/step - loss: 0.3776 - accuracy: 0.8682 - val_loss: 1.0448 - val_accuracy: 0.7055\n",
            "Epoch 30/50\n",
            "98/98 [==============================] - 4s 44ms/step - loss: 0.3558 - accuracy: 0.8760 - val_loss: 1.0418 - val_accuracy: 0.7037\n",
            "Epoch 31/50\n",
            "98/98 [==============================] - 4s 44ms/step - loss: 0.3552 - accuracy: 0.8761 - val_loss: 1.0360 - val_accuracy: 0.7061\n",
            "Epoch 32/50\n",
            "98/98 [==============================] - 4s 45ms/step - loss: 0.3407 - accuracy: 0.8810 - val_loss: 1.3706 - val_accuracy: 0.6614\n",
            "Epoch 33/50\n",
            "98/98 [==============================] - 4s 43ms/step - loss: 0.3307 - accuracy: 0.8835 - val_loss: 1.2665 - val_accuracy: 0.6639\n",
            "Epoch 34/50\n",
            "98/98 [==============================] - 4s 43ms/step - loss: 0.3171 - accuracy: 0.8875 - val_loss: 1.0405 - val_accuracy: 0.7101\n",
            "Epoch 35/50\n",
            "98/98 [==============================] - 4s 45ms/step - loss: 0.3168 - accuracy: 0.8895 - val_loss: 1.1025 - val_accuracy: 0.7126\n",
            "Epoch 36/50\n",
            "98/98 [==============================] - 4s 43ms/step - loss: 0.2990 - accuracy: 0.8962 - val_loss: 1.0677 - val_accuracy: 0.7128\n",
            "Epoch 37/50\n",
            "98/98 [==============================] - 4s 44ms/step - loss: 0.2984 - accuracy: 0.8949 - val_loss: 1.0597 - val_accuracy: 0.7158\n",
            "Epoch 38/50\n",
            "98/98 [==============================] - 4s 45ms/step - loss: 0.2881 - accuracy: 0.8996 - val_loss: 1.5434 - val_accuracy: 0.6524\n",
            "Epoch 39/50\n",
            "98/98 [==============================] - 4s 43ms/step - loss: 0.2785 - accuracy: 0.9035 - val_loss: 1.0377 - val_accuracy: 0.7291\n",
            "Epoch 40/50\n",
            "98/98 [==============================] - 4s 45ms/step - loss: 0.2768 - accuracy: 0.9036 - val_loss: 1.3263 - val_accuracy: 0.6718\n",
            "Epoch 41/50\n",
            "98/98 [==============================] - 4s 45ms/step - loss: 0.2641 - accuracy: 0.9079 - val_loss: 1.1481 - val_accuracy: 0.7041\n",
            "Epoch 42/50\n",
            "98/98 [==============================] - 4s 43ms/step - loss: 0.2615 - accuracy: 0.9090 - val_loss: 1.5644 - val_accuracy: 0.6409\n",
            "Epoch 43/50\n",
            "98/98 [==============================] - 4s 46ms/step - loss: 0.2611 - accuracy: 0.9078 - val_loss: 1.2611 - val_accuracy: 0.7006\n",
            "Epoch 44/50\n",
            "98/98 [==============================] - 4s 44ms/step - loss: 0.2388 - accuracy: 0.9154 - val_loss: 1.3419 - val_accuracy: 0.6907\n",
            "Epoch 45/50\n",
            "98/98 [==============================] - 4s 43ms/step - loss: 0.2421 - accuracy: 0.9156 - val_loss: 1.1282 - val_accuracy: 0.7284\n",
            "Epoch 46/50\n",
            "98/98 [==============================] - 5s 47ms/step - loss: 0.2250 - accuracy: 0.9226 - val_loss: 1.3007 - val_accuracy: 0.7018\n",
            "Epoch 47/50\n",
            "98/98 [==============================] - 4s 43ms/step - loss: 0.2253 - accuracy: 0.9208 - val_loss: 1.4934 - val_accuracy: 0.6669\n",
            "Epoch 48/50\n",
            "98/98 [==============================] - 4s 43ms/step - loss: 0.2290 - accuracy: 0.9196 - val_loss: 1.3004 - val_accuracy: 0.6953\n",
            "Epoch 49/50\n",
            "98/98 [==============================] - 4s 45ms/step - loss: 0.2214 - accuracy: 0.9214 - val_loss: 1.2769 - val_accuracy: 0.6937\n",
            "Epoch 50/50\n",
            "98/98 [==============================] - 4s 43ms/step - loss: 0.2086 - accuracy: 0.9266 - val_loss: 1.2257 - val_accuracy: 0.7124\n"
          ]
        }
      ]
    },
    {
      "cell_type": "code",
      "source": [
        "import matplotlib.pyplot as plt\n",
        "epochs = 50\n",
        "acc = history.history['accuracy']\n",
        "val_acc = history.history['val_accuracy']\n",
        "\n",
        "loss = history.history['loss']\n",
        "val_loss = history.history['val_loss']\n",
        "\n",
        "epochs_range = range(epochs)\n",
        "\n",
        "plt.figure(figsize=(8, 8))\n",
        "plt.subplot(1, 2, 1)\n",
        "plt.plot(epochs_range, acc, label='Training Accuracy')\n",
        "plt.plot(epochs_range, val_acc, label='Validation Accuracy')\n",
        "plt.legend(loc='lower right')\n",
        "plt.title('Training and Validation Accuracy')\n",
        "\n",
        "plt.subplot(1, 2, 2)\n",
        "plt.plot(epochs_range, loss, label='Training Loss')\n",
        "plt.plot(epochs_range, val_loss, label='Validation Loss')\n",
        "plt.legend(loc='upper right')\n",
        "plt.title('Training and Validation Loss')\n",
        "plt.show()"
      ],
      "metadata": {
        "colab": {
          "base_uri": "https://localhost:8080/"
        },
        "id": "WMSPS6lCO9fP",
        "outputId": "73f86ad0-c85d-4a6f-b860-b575ff5cb02b"
      },
      "execution_count": 1,
      "outputs": [
        {
          "output_type": "error",
          "ename": "NameError",
          "evalue": "ignored",
          "traceback": [
            "\u001b[0;31m---------------------------------------------------------------------------\u001b[0m",
            "\u001b[0;31mNameError\u001b[0m                                 Traceback (most recent call last)",
            "\u001b[0;32m<ipython-input-1-68dc4f876d44>\u001b[0m in \u001b[0;36m<cell line: 3>\u001b[0;34m()\u001b[0m\n\u001b[1;32m      1\u001b[0m \u001b[0;32mimport\u001b[0m \u001b[0mmatplotlib\u001b[0m\u001b[0;34m.\u001b[0m\u001b[0mpyplot\u001b[0m \u001b[0;32mas\u001b[0m \u001b[0mplt\u001b[0m\u001b[0;34m\u001b[0m\u001b[0;34m\u001b[0m\u001b[0m\n\u001b[1;32m      2\u001b[0m \u001b[0mepochs\u001b[0m \u001b[0;34m=\u001b[0m \u001b[0;36m50\u001b[0m\u001b[0;34m\u001b[0m\u001b[0;34m\u001b[0m\u001b[0m\n\u001b[0;32m----> 3\u001b[0;31m \u001b[0macc\u001b[0m \u001b[0;34m=\u001b[0m \u001b[0mhistory\u001b[0m\u001b[0;34m.\u001b[0m\u001b[0mhistory\u001b[0m\u001b[0;34m[\u001b[0m\u001b[0;34m'accuracy'\u001b[0m\u001b[0;34m]\u001b[0m\u001b[0;34m\u001b[0m\u001b[0;34m\u001b[0m\u001b[0m\n\u001b[0m\u001b[1;32m      4\u001b[0m \u001b[0mval_acc\u001b[0m \u001b[0;34m=\u001b[0m \u001b[0mhistory\u001b[0m\u001b[0;34m.\u001b[0m\u001b[0mhistory\u001b[0m\u001b[0;34m[\u001b[0m\u001b[0;34m'val_accuracy'\u001b[0m\u001b[0;34m]\u001b[0m\u001b[0;34m\u001b[0m\u001b[0;34m\u001b[0m\u001b[0m\n\u001b[1;32m      5\u001b[0m \u001b[0;34m\u001b[0m\u001b[0m\n",
            "\u001b[0;31mNameError\u001b[0m: name 'history' is not defined"
          ]
        }
      ]
    },
    {
      "cell_type": "code",
      "execution_count": 2,
      "metadata": {
        "colab": {
          "base_uri": "https://localhost:8080/"
        },
        "outputId": "32700f5c-3e7d-4032-fff1-8acc468341c7",
        "id": "id6wbxaJia0i"
      },
      "outputs": [
        {
          "output_type": "stream",
          "name": "stdout",
          "text": [
            "Num GPUs Available:  1\n"
          ]
        }
      ],
      "source": [
        "# https://www.tensorflow.org/guide/gpu#overview\n",
        "import tensorflow as tf\n",
        "print(\"Num GPUs Available: \", len(tf.config.list_physical_devices('GPU')))\n",
        "gpus = tf.config.list_logical_devices('GPU')\n",
        "strategy = tf.distribute.MirroredStrategy(gpus)"
      ]
    },
    {
      "cell_type": "code",
      "source": [],
      "metadata": {
        "id": "L0NImAmjiz7e"
      },
      "execution_count": null,
      "outputs": []
    },
    {
      "cell_type": "code",
      "source": [],
      "metadata": {
        "id": "LMzgdtEFi0Gu"
      },
      "execution_count": null,
      "outputs": []
    }
  ],
  "metadata": {
    "kernelspec": {
      "display_name": "Python 3",
      "name": "python3"
    },
    "language_info": {
      "codemirror_mode": {
        "name": "ipython",
        "version": 3
      },
      "file_extension": ".py",
      "mimetype": "text/x-python",
      "name": "python",
      "nbconvert_exporter": "python",
      "pygments_lexer": "ipython3",
      "version": "3.8.8"
    },
    "vscode": {
      "interpreter": {
        "hash": "590a023392bfbd6bf25d040f547d42ca7bfa1d7d06eb05be9ee62c62a8e24a8d"
      }
    },
    "colab": {
      "provenance": [],
      "gpuType": "T4",
      "include_colab_link": true
    },
    "accelerator": "GPU"
  },
  "nbformat": 4,
  "nbformat_minor": 0
}